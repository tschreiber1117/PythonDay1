{
 "cells": [
  {
   "cell_type": "markdown",
   "metadata": {},
   "source": [
    "# Week 2 - Monday Lesson (variable assignment, loops, lists)"
   ]
  },
  {
   "cell_type": "markdown",
   "metadata": {},
   "source": [
    "## Tasks Today:\n",
    "\n",
    "1) Int & Float assignments <br>\n",
    " &nbsp;&nbsp;&nbsp;&nbsp; a) Assigning int <br>\n",
    " &nbsp;&nbsp;&nbsp;&nbsp; b) Assigning float <br>\n",
    " &nbsp;&nbsp;&nbsp;&nbsp; c) Performing Calculations on ints and floats <br>\n",
    " &nbsp;&nbsp;&nbsp;&nbsp;&nbsp;&nbsp;&nbsp;&nbsp; - Addition <br>\n",
    " &nbsp;&nbsp;&nbsp;&nbsp;&nbsp;&nbsp;&nbsp;&nbsp; - Subtraction <br>\n",
    " &nbsp;&nbsp;&nbsp;&nbsp;&nbsp;&nbsp;&nbsp;&nbsp; - Multiplication <br>\n",
    " &nbsp;&nbsp;&nbsp;&nbsp;&nbsp;&nbsp;&nbsp;&nbsp; - Division <br>\n",
    " &nbsp;&nbsp;&nbsp;&nbsp;&nbsp;&nbsp;&nbsp;&nbsp; - Floor Division <br>\n",
    " &nbsp;&nbsp;&nbsp;&nbsp;&nbsp;&nbsp;&nbsp;&nbsp; - Modulo <br>\n",
    " &nbsp;&nbsp;&nbsp;&nbsp;&nbsp;&nbsp;&nbsp;&nbsp; - Exponential <br>\n",
    "2) String Input-Output <br>\n",
    " &nbsp;&nbsp;&nbsp;&nbsp; a) String Assignment <br>\n",
    " &nbsp;&nbsp;&nbsp;&nbsp; b) print() <br>\n",
    " &nbsp;&nbsp;&nbsp;&nbsp; c) String Concatenation <br>\n",
    " &nbsp;&nbsp;&nbsp;&nbsp; d) Type Conversion <br>\n",
    " &nbsp;&nbsp;&nbsp;&nbsp; e) input() <br>\n",
    " &nbsp;&nbsp;&nbsp;&nbsp; f) format() <br>\n",
    " &nbsp;&nbsp;&nbsp;&nbsp; g) Old Way (python 2) <br>\n",
    "3) <b>In-Class Exercise #1</b> <br>\n",
    "4) If Statements <br>\n",
    " &nbsp;&nbsp;&nbsp;&nbsp; a) 'is' keyword <br>\n",
    " &nbsp;&nbsp;&nbsp;&nbsp; b) 'in' keyword <br>\n",
    " &nbsp;&nbsp;&nbsp;&nbsp; c) 'not in' keyword <br>\n",
    "5) <b>In-Class Exercise #2</b> <br>\n",
    "6) Elif Statements <br>\n",
    "7) Else Statements <br>\n",
    "8) <b>In-Class Exercise #3</b> <br>\n",
    "9) For Loops <br>\n",
    " &nbsp;&nbsp;&nbsp;&nbsp; a) Using 'in' keyword <br>\n",
    " &nbsp;&nbsp;&nbsp;&nbsp; b) Continue Statement <br>\n",
    " &nbsp;&nbsp;&nbsp;&nbsp; c) Break Statement <br>\n",
    " &nbsp;&nbsp;&nbsp;&nbsp; d) Pass Statement <br>\n",
    " &nbsp;&nbsp;&nbsp;&nbsp; e) Double For Loops <br>\n",
    "10) While Loops <br>\n",
    " &nbsp;&nbsp;&nbsp;&nbsp; a) Looping 'While True' <br>\n",
    " &nbsp;&nbsp;&nbsp;&nbsp; b) While and For Loops Used Together <br>\n",
    "11) Built-In Functions <br>\n",
    " &nbsp;&nbsp;&nbsp;&nbsp; a) range() <br>\n",
    " &nbsp;&nbsp;&nbsp;&nbsp; b) len() <br>\n",
    " &nbsp;&nbsp;&nbsp;&nbsp; c) help() <br>\n",
    " &nbsp;&nbsp;&nbsp;&nbsp; d) isinstance() <br>\n",
    " &nbsp;&nbsp;&nbsp;&nbsp; e) abs() <br>\n",
    "12) Try and Except <br>\n",
    "13) Lists <br>\n",
    " &nbsp;&nbsp;&nbsp;&nbsp; a) Declaring Lists <br>\n",
    " &nbsp;&nbsp;&nbsp;&nbsp; b) Indexing a List <br>\n",
    " &nbsp;&nbsp;&nbsp;&nbsp; c) .append() <br>\n",
    " &nbsp;&nbsp;&nbsp;&nbsp; d) .insert() <br>\n",
    " &nbsp;&nbsp;&nbsp;&nbsp; e) .pop() <br>\n",
    " &nbsp;&nbsp;&nbsp;&nbsp; f) .remove() <br>\n",
    " &nbsp;&nbsp;&nbsp;&nbsp; g) del() <br>\n",
    " &nbsp;&nbsp;&nbsp;&nbsp; h) Concatenating Two Lists <br>\n",
    " &nbsp;&nbsp;&nbsp;&nbsp; i) Lists Within Lists <br>\n",
    " &nbsp;&nbsp;&nbsp;&nbsp; j) Looping Through Lists <br>"
   ]
  },
  {
   "cell_type": "markdown",
   "metadata": {},
   "source": [
    "### Int & Float Assignments"
   ]
  },
  {
   "cell_type": "markdown",
   "metadata": {},
   "source": [
    "##### Assigning int"
   ]
  },
  {
   "cell_type": "code",
   "execution_count": null,
   "metadata": {},
   "outputs": [],
   "source": []
  },
  {
   "cell_type": "markdown",
   "metadata": {},
   "source": [
    "##### Assinging float"
   ]
  },
  {
   "cell_type": "code",
   "execution_count": null,
   "metadata": {},
   "outputs": [],
   "source": []
  },
  {
   "cell_type": "markdown",
   "metadata": {},
   "source": [
    "#### Performing Calculations on ints and floats"
   ]
  },
  {
   "cell_type": "markdown",
   "metadata": {},
   "source": [
    "##### Addition"
   ]
  },
  {
   "cell_type": "code",
   "execution_count": null,
   "metadata": {},
   "outputs": [],
   "source": []
  },
  {
   "cell_type": "markdown",
   "metadata": {},
   "source": [
    "##### Subtraction"
   ]
  },
  {
   "cell_type": "code",
   "execution_count": null,
   "metadata": {},
   "outputs": [],
   "source": []
  },
  {
   "cell_type": "markdown",
   "metadata": {},
   "source": [
    "##### Multiplication"
   ]
  },
  {
   "cell_type": "code",
   "execution_count": null,
   "metadata": {},
   "outputs": [],
   "source": []
  },
  {
   "cell_type": "markdown",
   "metadata": {},
   "source": [
    "##### Division"
   ]
  },
  {
   "cell_type": "code",
   "execution_count": null,
   "metadata": {},
   "outputs": [],
   "source": []
  },
  {
   "cell_type": "markdown",
   "metadata": {},
   "source": [
    "##### Floor Division"
   ]
  },
  {
   "cell_type": "code",
   "execution_count": null,
   "metadata": {},
   "outputs": [],
   "source": []
  },
  {
   "cell_type": "markdown",
   "metadata": {},
   "source": [
    "##### Modulo"
   ]
  },
  {
   "cell_type": "code",
   "execution_count": null,
   "metadata": {},
   "outputs": [],
   "source": []
  },
  {
   "cell_type": "markdown",
   "metadata": {},
   "source": [
    "##### Exponential"
   ]
  },
  {
   "cell_type": "code",
   "execution_count": null,
   "metadata": {},
   "outputs": [],
   "source": []
  },
  {
   "cell_type": "markdown",
   "metadata": {},
   "source": [
    "### String Input-Output"
   ]
  },
  {
   "cell_type": "markdown",
   "metadata": {},
   "source": [
    "##### String Assignment"
   ]
  },
  {
   "cell_type": "code",
   "execution_count": null,
   "metadata": {},
   "outputs": [],
   "source": []
  },
  {
   "cell_type": "markdown",
   "metadata": {},
   "source": [
    "##### print() <br>\n",
    "<p>Don't forget about end=' '</p>"
   ]
  },
  {
   "cell_type": "code",
   "execution_count": null,
   "metadata": {},
   "outputs": [],
   "source": []
  },
  {
   "cell_type": "markdown",
   "metadata": {},
   "source": [
    "##### String Concatenation"
   ]
  },
  {
   "cell_type": "code",
   "execution_count": null,
   "metadata": {},
   "outputs": [],
   "source": []
  },
  {
   "cell_type": "markdown",
   "metadata": {},
   "source": [
    "##### Type Conversion"
   ]
  },
  {
   "cell_type": "code",
   "execution_count": null,
   "metadata": {},
   "outputs": [],
   "source": []
  },
  {
   "cell_type": "markdown",
   "metadata": {},
   "source": [
    "##### input()"
   ]
  },
  {
   "cell_type": "code",
   "execution_count": null,
   "metadata": {},
   "outputs": [],
   "source": []
  },
  {
   "cell_type": "markdown",
   "metadata": {},
   "source": [
    "##### format()"
   ]
  },
  {
   "cell_type": "code",
   "execution_count": null,
   "metadata": {},
   "outputs": [],
   "source": []
  },
  {
   "cell_type": "markdown",
   "metadata": {},
   "source": [
    "##### Old Way (python 2)"
   ]
  },
  {
   "cell_type": "code",
   "execution_count": null,
   "metadata": {},
   "outputs": [],
   "source": []
  },
  {
   "cell_type": "markdown",
   "metadata": {},
   "source": [
    "# In-Class Exercise 1 <br>\n",
    "<p>Create a format statement that asks for color, year, make, model and prints out the results</p>"
   ]
  },
  {
   "cell_type": "code",
   "execution_count": 5,
   "metadata": {},
   "outputs": [
    {
     "ename": "SyntaxError",
     "evalue": "invalid syntax (<ipython-input-5-9d05bf20664d>, line 1)",
     "output_type": "error",
     "traceback": [
      "\u001b[1;36m  File \u001b[1;32m\"<ipython-input-5-9d05bf20664d>\"\u001b[1;36m, line \u001b[1;32m1\u001b[0m\n\u001b[1;33m    color = input(enter the color)\u001b[0m\n\u001b[1;37m                        ^\u001b[0m\n\u001b[1;31mSyntaxError\u001b[0m\u001b[1;31m:\u001b[0m invalid syntax\n"
     ]
    }
   ],
   "source": [
    "color = input(enter the color)\n",
    "year = input(enter the year)\n",
    "make = input(enter the make)\n",
    "model = input(enter the model)\n",
    "\n",
    "print(f'The car is a {color}"
   ]
  },
  {
   "cell_type": "markdown",
   "metadata": {},
   "source": [
    "### If Statements"
   ]
  },
  {
   "cell_type": "code",
   "execution_count": null,
   "metadata": {},
   "outputs": [],
   "source": [
    "# Available operators: Greater(>), Less(<),Equal(==)\n",
    "# Greater or Equal(>=), Less or Equal (<=)\n",
    "\n",
    "# Truth Tree:\n",
    "# T && F = F\n",
    "# T && T = T\n",
    "# T || F = T\n",
    "# F || T = T\n",
    "# F || F = F"
   ]
  },
  {
   "cell_type": "markdown",
   "metadata": {},
   "source": [
    "##### 'is' keyword"
   ]
  },
  {
   "cell_type": "code",
   "execution_count": 7,
   "metadata": {
    "scrolled": true
   },
   "outputs": [
    {
     "name": "stdout",
     "output_type": "stream",
     "text": [
      "this will run\n",
      "equality!\n"
     ]
    }
   ],
   "source": [
    "if 2 < 3:\n",
    "    print('this will run')\n",
    "if 3 < 2:\n",
    "    print('will not run')\n",
    "    \n",
    "if 'water' == 'water':\n",
    "    print('equality!')\n",
    "    if 3 == '3':\n",
    "        print('nope')"
   ]
  },
  {
   "cell_type": "markdown",
   "metadata": {},
   "source": [
    "##### 'in' keyword"
   ]
  },
  {
   "cell_type": "code",
   "execution_count": 13,
   "metadata": {},
   "outputs": [
    {
     "name": "stdout",
     "output_type": "stream",
     "text": [
      "contents have same equality\n",
      "same ref\n",
      "maybe?\n",
      "0x7ff3948\n",
      "0x7ff3ba8\n",
      "0x7ff3948\n"
     ]
    },
    {
     "name": "stderr",
     "output_type": "stream",
     "text": [
      "<>:23: SyntaxWarning: \"is\" with a literal. Did you mean \"==\"?\n",
      "<>:23: SyntaxWarning: \"is\" with a literal. Did you mean \"==\"?\n",
      "<ipython-input-13-44278da8d77f>:23: SyntaxWarning: \"is\" with a literal. Did you mean \"==\"?\n",
      "  if 'water' is 'water':\n"
     ]
    }
   ],
   "source": [
    "# the 'is' keyword compares the reference for the variable\n",
    "# the value of data has to be stored somewhere\n",
    "#the 'is' keyword checks if two things are stored in the same place\n",
    "#the string water is the same as the string water\n",
    "#however if we have two lists, both containing water\n",
    "#those two lists would be equal (==) but not the same according to (is)\n",
    "\n",
    "twin_todd = ['water']\n",
    "twin_tara = ['water']\n",
    "twin_toddric = twin_todd\n",
    "\n",
    "#a and b have the same contents\n",
    "if a == b:\n",
    "    print ('contents have same equality')\n",
    "    \n",
    "# is keyword cehcks what memory address the variables reference\n",
    "if a is b:\n",
    "    print('different location')\n",
    "    \n",
    "if b is c:\n",
    "    print('same ref')\n",
    "\n",
    "if 'water' is 'water':\n",
    "    print('maybe?')\n",
    "          \n",
    "print(f'memory location of twin_todd: {hex(id(twin_todd))}')\n",
    "print(f'memory location of twin_tara: {hex(id(twin_tara))}')\n",
    "# toddric is a reference to todd\n",
    "print(f'memory location of twin_toddric: {hex(id(twin_toddric))}')"
   ]
  },
  {
   "cell_type": "markdown",
   "metadata": {},
   "source": [
    "##### 'not in' keyword'"
   ]
  },
  {
   "cell_type": "code",
   "execution_count": 15,
   "metadata": {},
   "outputs": [
    {
     "name": "stderr",
     "output_type": "stream",
     "text": [
      "<>:12: SyntaxWarning: \"is\" with a literal. Did you mean \"==\"?\n",
      "<>:15: SyntaxWarning: \"is\" with a literal. Did you mean \"==\"?\n",
      "<>:12: SyntaxWarning: \"is\" with a literal. Did you mean \"==\"?\n",
      "<>:15: SyntaxWarning: \"is\" with a literal. Did you mean \"==\"?\n",
      "<ipython-input-15-714e0e751c3a>:12: SyntaxWarning: \"is\" with a literal. Did you mean \"==\"?\n",
      "  if 'fox' is a_list:\n",
      "<ipython-input-15-714e0e751c3a>:15: SyntaxWarning: \"is\" with a literal. Did you mean \"==\"?\n",
      "  if 'wolf' is a_string:\n"
     ]
    }
   ],
   "source": [
    "# in keyword is used for membership tests\n",
    "# it is what it seems like\n",
    "# if checks if something is in something else\n",
    "# more specifically it checks if some piece of data is in an iterable\n",
    "# an iterable is something that can be looped through/stepped over\n",
    "#lists, strings are iterable\n",
    "#something like an integer or a float is not an iterable\n",
    "\n",
    "a_list = ['fox', 'wolf', 'bear', 'echidna']\n",
    "a_string = 'fox wolf bear echidna'\n",
    "\n",
    "if 'fox' is a_list:\n",
    "    print('oh hey its a fox in the list')\n",
    "    \n",
    "if 'wolf' is a_string:\n",
    "    print('oh hey its a wolf in the string')\n",
    "    \n"
   ]
  },
  {
   "cell_type": "markdown",
   "metadata": {},
   "source": [
    "# In-Class Exercise 2 <br>\n",
    "<p>Ask user for input, check to see if the letter 'p' is in the input</p>"
   ]
  },
  {
   "cell_type": "code",
   "execution_count": 24,
   "metadata": {},
   "outputs": [
    {
     "ename": "TypeError",
     "evalue": "'str' object is not callable",
     "output_type": "error",
     "traceback": [
      "\u001b[1;31m---------------------------------------------------------------------------\u001b[0m",
      "\u001b[1;31mTypeError\u001b[0m                                 Traceback (most recent call last)",
      "\u001b[1;32m<ipython-input-24-677301e65d4a>\u001b[0m in \u001b[0;36m<module>\u001b[1;34m\u001b[0m\n\u001b[1;32m----> 1\u001b[1;33m \u001b[0minp\u001b[0m \u001b[1;33m=\u001b[0m \u001b[0minput\u001b[0m\u001b[1;33m(\u001b[0m\u001b[1;34m'is P in this sentence?'\u001b[0m\u001b[1;33m)\u001b[0m\u001b[1;33m\u001b[0m\u001b[1;33m\u001b[0m\u001b[0m\n\u001b[0m\u001b[0;32m      2\u001b[0m \u001b[1;32mif\u001b[0m \u001b[1;34m'p'\u001b[0m \u001b[1;32min\u001b[0m \u001b[0minput\u001b[0m\u001b[1;33m:\u001b[0m\u001b[1;33m\u001b[0m\u001b[1;33m\u001b[0m\u001b[0m\n\u001b[0;32m      3\u001b[0m     \u001b[0mprint\u001b[0m\u001b[1;33m(\u001b[0m\u001b[1;34mf\"the letter 'p' is in {inp}'.\"\u001b[0m\u001b[1;33m)\u001b[0m\u001b[1;33m\u001b[0m\u001b[1;33m\u001b[0m\u001b[0m\n\u001b[0;32m      4\u001b[0m \u001b[1;32mif\u001b[0m \u001b[1;34m'p'\u001b[0m \u001b[1;32mnot\u001b[0m \u001b[1;32min\u001b[0m \u001b[0minput\u001b[0m\u001b[1;33m:\u001b[0m\u001b[1;33m\u001b[0m\u001b[1;33m\u001b[0m\u001b[0m\n\u001b[0;32m      5\u001b[0m     \u001b[0mprint\u001b[0m\u001b[1;33m(\u001b[0m\u001b[1;34mf\"the letter 'p' is not in {inp}'.\"\u001b[0m\u001b[1;33m)\u001b[0m\u001b[1;33m\u001b[0m\u001b[1;33m\u001b[0m\u001b[0m\n",
      "\u001b[1;31mTypeError\u001b[0m: 'str' object is not callable"
     ]
    }
   ],
   "source": [
    "inp = input('is P in this sentence?')\n",
    "if 'p' in input:\n",
    "    print(f\"the letter 'p' is in {inp}'.\")\n",
    "if 'p' not in input:\n",
    "    print(f\"the letter 'p' is not in {inp}'.\")"
   ]
  },
  {
   "cell_type": "markdown",
   "metadata": {},
   "source": [
    "## Using 'and'/'or' with If Statements"
   ]
  },
  {
   "cell_type": "code",
   "execution_count": 26,
   "metadata": {},
   "outputs": [
    {
     "name": "stdout",
     "output_type": "stream",
     "text": [
      "yes\n"
     ]
    }
   ],
   "source": [
    "# and & or keywords are used to combine multiple conditional statements into one\n",
    "\n",
    "a_list = ['fox', 'wolf', 'bear', 'echidna']\n",
    "a_string = 'fox wolf bear echidna'\n",
    "\n",
    "if ('fox' in a_list) and ('turtle' in a_list):\n",
    "    print('look at the truth table')\n",
    "    \n",
    "if (('fox' in a_list) and ('echidna' in a_list)) or (('fox' in a_list) and ('turtle' in a_list)):\n",
    "    print('yes')\n",
    "    \n",
    "# truth table\n",
    "# true and false == false\n",
    "# true and true == true\n",
    "# false and false == false\n",
    "# true or false == true\n",
    "# true or true == true\n",
    "# false or false == false"
   ]
  },
  {
   "cell_type": "markdown",
   "metadata": {},
   "source": [
    "### Elif Statements"
   ]
  },
  {
   "cell_type": "code",
   "execution_count": 28,
   "metadata": {},
   "outputs": [
    {
     "name": "stdout",
     "output_type": "stream",
     "text": [
      "eval to true on line 11\n"
     ]
    }
   ],
   "source": [
    "# same idea/structure as if statements\n",
    "# however they can only occur after an if statement\n",
    "# and if that prior if statement triggered (evaluated to true and ran its code block)\n",
    "# the elif statement(s) will not be checked\n",
    "\n",
    "if('fox' in a_list) and ('turtle' in a_list):\n",
    "    print('evals to false so move on to elifs')\n",
    "\n",
    "elif 'badger' in a_list:\n",
    "        print('badger aint in list move on')\n",
    "        \n",
    "elif 'f' in a_string:\n",
    "    print('eval to true on line 11')\n",
    "    \n",
    "elif True:\n",
    "    print('not even checked because line 11 evaluated to true and ran')\n",
    "    \n",
    "else:\n",
    "    print('this wont trigger bc line 11')\n"
   ]
  },
  {
   "cell_type": "markdown",
   "metadata": {},
   "source": [
    "### Else Statements"
   ]
  },
  {
   "cell_type": "code",
   "execution_count": 30,
   "metadata": {},
   "outputs": [
    {
     "name": "stdout",
     "output_type": "stream",
     "text": [
      "this else statement triggered because if False is not True\n"
     ]
    }
   ],
   "source": [
    "# see above for example\n",
    "\n",
    "# else statements can only occur at the end of a buch (or one) or if and/or elif statements\n",
    "# the else statement doesn't have a condition\n",
    "# and will only run its code block if no prior conditional evaluated to true\n",
    "\n",
    "if False:\n",
    "    print('false aint true come on')\n",
    "    \n",
    "else:\n",
    "    print('this else statement triggered because if False is not True')"
   ]
  },
  {
   "cell_type": "markdown",
   "metadata": {},
   "source": [
    "### For Loops"
   ]
  },
  {
   "cell_type": "code",
   "execution_count": 37,
   "metadata": {},
   "outputs": [
    {
     "name": "stdout",
     "output_type": "stream",
     "text": [
      "doing this for each value in a_list.... current value: fox\n",
      "doing this for each value in a_list.... current value: wolf\n",
      "doing this for each value in a_list.... current value: bear\n",
      "current value is bear\n",
      "moon bear\n",
      "doing this for each value in a_list.... current value: echidna\n",
      "['fox', 'wolf', 'bear', 'echidna']\n",
      "t<- thats one letter h<- thats one letter e<- thats one letter  <- thats one letter f<- thats one letter e<- thats one letter n<- thats one letter n<- thats one letter e<- thats one letter c<- thats one letter  <- thats one letter f<- thats one letter o<- thats one letter x<- thats one letter  <- thats one letter i<- thats one letter s<- thats one letter  <- thats one letter t<- thats one letter h<- thats one letter  <- thats one letter e<- thats one letter m<- thats one letter o<- thats one letter s<- thats one letter t<- thats one letter  <- thats one letter s<- thats one letter o<- thats one letter c<- thats one letter i<- thats one letter a<- thats one letter l<- thats one letter  <- thats one letter s<- thats one letter p<- thats one letter e<- thats one letter c<- thats one letter i<- thats one letter e<- thats one letter s<- thats one letter  <- thats one letter o<- thats one letter f<- thats one letter  <- thats one letter c<- thats one letter a<- thats one letter n<- thats one letter i<- thats one letter d<- thats one letter .<- thats one letter \n",
      "\n",
      "['fox', 'wolf', 'bear', 'echidna']\n",
      "index: 0, value: fox\n",
      "index: 1, value: wolf\n",
      "index: 2, value: bear\n",
      "we found the bear\n",
      "its a moon bear now moon bears are best\n",
      "index: 3, value: echidna\n",
      "['fox', 'wolf', 'moon bear', 'echidna']\n"
     ]
    }
   ],
   "source": [
    "# we can do some process repeatedly for each item in an iterable\n",
    "# an iterable is something we can step over/look through/turn the pages of if you think of it like a book\n",
    "# examples of iterables: lists, strings, sequences (aka from the range function)\n",
    "\n",
    "a_list = ['fox', 'wolf', 'bear', 'echidna']\n",
    "a_string = 'the fennec fox is th emost social species of canid.'\n",
    "\n",
    "# 2 main types of for loops\n",
    "# direct looping over values\n",
    "# value is a placeholder variable name for the item in the iterable\n",
    "for value in a_list:\n",
    "    print(f'doing this for each value in a_list.... current value: {value}')\n",
    "    if value =='bear':\n",
    "        print('current value is bear')\n",
    "        value = 'moon bear'\n",
    "        print(value)\n",
    "print(a_list)\n",
    "\n",
    "# i, j, k, l, m, n, a, b, c all common placeholders used in for loops\n",
    "# but your placeholder can be whatever you want it to be, its a placeholder\n",
    "for l in a_string:\n",
    "    print(l, end='<- thats one letter ')\n",
    "    \n",
    "print('\\n')\n",
    "\n",
    "# looping over index numbers\n",
    "# only used for iterables with index numbers or for numerical sequences\n",
    "# how do we get the most numerical sequence representing a lists index numbers in order to loop over them\n",
    "# we use our favorite range function! the range() function\n",
    "# (and also the length function len()\n",
    "# (len() gives us the length of a list or string or other iterable\n",
    "# range() takes a start, stop, and step and spits out a number sequence (range is a generator more on that later)\n",
    "# Google range if you forgot how to use it\n",
    "# ranges' start defaults to and its step defaults to 1\n",
    "# range's last number is one less than the stop value\n",
    "# if we put the length of a list (or other iterable) into the range function\n",
    "# we get the sequence of numbers from 0 up to one less than the length of the list\n",
    "# which, very intentially, corresponds to the index numbers of tha tlist\n",
    "print(a_list)\n",
    "for i in range(len(a_list)):\n",
    "    print(f'index: {i}, value: {a_list[i]}')\n",
    "    if a_list[i] == 'bear':\n",
    "        print('we found the bear')\n",
    "        a_list[i] = 'moon bear'\n",
    "        print('its a moon bear now moon bears are best')\n",
    "print(a_list)\n",
    "\n",
    "    # to learn more about accessing values in a list see the list section below"
   ]
  },
  {
   "cell_type": "markdown",
   "metadata": {},
   "source": [
    "##### Using 'in' keyword"
   ]
  },
  {
   "cell_type": "code",
   "execution_count": null,
   "metadata": {},
   "outputs": [],
   "source": [
    "# see above"
   ]
  },
  {
   "cell_type": "markdown",
   "metadata": {},
   "source": [
    "##### Continue Statement"
   ]
  },
  {
   "cell_type": "code",
   "execution_count": null,
   "metadata": {},
   "outputs": [],
   "source": [
    "# will continue to next iteration"
   ]
  },
  {
   "cell_type": "code",
   "execution_count": null,
   "metadata": {},
   "outputs": [],
   "source": []
  },
  {
   "cell_type": "markdown",
   "metadata": {},
   "source": [
    "##### Break Statement"
   ]
  },
  {
   "cell_type": "code",
   "execution_count": null,
   "metadata": {},
   "outputs": [],
   "source": [
    "# will break out of current loop"
   ]
  },
  {
   "cell_type": "code",
   "execution_count": null,
   "metadata": {},
   "outputs": [],
   "source": []
  },
  {
   "cell_type": "markdown",
   "metadata": {},
   "source": [
    "##### Pass Statement"
   ]
  },
  {
   "cell_type": "code",
   "execution_count": null,
   "metadata": {},
   "outputs": [],
   "source": [
    "# mostly used as a placeholder, and will continue on same iteration"
   ]
  },
  {
   "cell_type": "code",
   "execution_count": 40,
   "metadata": {},
   "outputs": [],
   "source": [
    "if 18 > 4:\n",
    "    pass\n",
    "elif 123 ==2:\n",
    "    pass\n",
    "if 22 == 1831:\n",
    "    pass\n",
    "else:\n",
    "    pass\n",
    "for i in range(10):\n",
    "    pass"
   ]
  },
  {
   "cell_type": "markdown",
   "metadata": {},
   "source": [
    "##### Double For Loops"
   ]
  },
  {
   "cell_type": "code",
   "execution_count": 46,
   "metadata": {},
   "outputs": [
    {
     "name": "stdout",
     "output_type": "stream",
     "text": [
      "outer step\n",
      "inner step: a0\n",
      "inner step: a1\n",
      "inner step: a2\n",
      "inner step: a3\n",
      "outer step\n",
      "inner step: b0\n",
      "inner step: b1\n",
      "inner step: b2\n",
      "inner step: b3\n",
      "outer step\n",
      "inner step: c0\n",
      "inner step: c1\n",
      "inner step: c2\n",
      "inner step: c3\n",
      "outer step\n",
      "inner step: d0\n",
      "inner step: d1\n",
      "inner step: d2\n",
      "inner step: d3\n"
     ]
    }
   ],
   "source": [
    "a = ['a', 'b', 'c', 'd']\n",
    "b = [0, 1, 2, 3]\n",
    "\n",
    "#each time our outer for loop does one step\n",
    "for l in a:\n",
    "    print('outer step')\n",
    "    # the inner for loop runs fully\n",
    "    for n in b:\n",
    "        print(f'inner step: {l}{n}')"
   ]
  },
  {
   "cell_type": "markdown",
   "metadata": {},
   "source": [
    "### While Loops"
   ]
  },
  {
   "cell_type": "code",
   "execution_count": null,
   "metadata": {},
   "outputs": [],
   "source": [
    "# for loops are based on the items in an iterable or a sequence\n",
    "# while loops are based on a condition\n",
    "\n",
    "while condition evaluates to true:\n",
    "    do a thing...repeatedly"
   ]
  },
  {
   "cell_type": "markdown",
   "metadata": {},
   "source": [
    "##### Looping 'While True'"
   ]
  },
  {
   "cell_type": "code",
   "execution_count": 49,
   "metadata": {},
   "outputs": [
    {
     "name": "stdout",
     "output_type": "stream",
     "text": [
      "hi\n",
      "hi\n",
      "hi\n",
      "hi\n",
      "hi\n",
      "hi\n"
     ]
    }
   ],
   "source": [
    "number = 0\n",
    "while number < 6:\n",
    "    number += 1\n",
    "    print('hi')"
   ]
  },
  {
   "cell_type": "markdown",
   "metadata": {},
   "source": [
    "##### While & For Loops Used Together"
   ]
  },
  {
   "cell_type": "code",
   "execution_count": null,
   "metadata": {},
   "outputs": [],
   "source": []
  },
  {
   "cell_type": "markdown",
   "metadata": {},
   "source": [
    "### Built-In Functions"
   ]
  },
  {
   "cell_type": "markdown",
   "metadata": {},
   "source": [
    "##### range()"
   ]
  },
  {
   "cell_type": "code",
   "execution_count": 54,
   "metadata": {},
   "outputs": [
    {
     "name": "stdout",
     "output_type": "stream",
     "text": [
      "[0, 1, 2, 3, 4, 5, 6, 7, 8, 9]\n",
      "[1, 2, 3, 4, 5, 6, 7, 8, 9]\n",
      "[-2, 0, 2, 4, 6, 8, 10, 12]\n",
      "[10, 9, 8, 7, 6, 5, 4, 3, 2]\n"
     ]
    }
   ],
   "source": [
    "# range is whats known as a generator\n",
    "# range accepts a starting value, ending value (that is not included), and a stepping value\n",
    "# range returns a sequence of integers based on the start, stop, step\n",
    "# stop has no default, start defaults to 0, step defaults to 1\n",
    "#you can convert a range into a list to get a list of numbers\n",
    "# using the list() function\n",
    "print(list(range(10)))\n",
    "print(list(range(1, 10)))\n",
    "print(list(range(-2, 13, 2)))\n",
    "print(list(range(10, 1, -1)))\n"
   ]
  },
  {
   "cell_type": "markdown",
   "metadata": {},
   "source": [
    "##### len()"
   ]
  },
  {
   "cell_type": "code",
   "execution_count": 55,
   "metadata": {},
   "outputs": [
    {
     "data": {
      "text/plain": [
       "31"
      ]
     },
     "execution_count": 55,
     "metadata": {},
     "output_type": "execute_result"
    }
   ],
   "source": [
    "# gives the length of a collection of data\n",
    "# can be used on strings, lists, sets, dictionaries, tuples\n",
    "# start - 12, end - 831, step by 27\n",
    "len(list(range(12, 831, 27)))"
   ]
  },
  {
   "cell_type": "markdown",
   "metadata": {},
   "source": [
    "##### help()"
   ]
  },
  {
   "cell_type": "code",
   "execution_count": 57,
   "metadata": {},
   "outputs": [
    {
     "name": "stdout",
     "output_type": "stream",
     "text": [
      "Help on class range in module builtins:\n",
      "\n",
      "class range(object)\n",
      " |  range(stop) -> range object\n",
      " |  range(start, stop[, step]) -> range object\n",
      " |  \n",
      " |  Return an object that produces a sequence of integers from start (inclusive)\n",
      " |  to stop (exclusive) by step.  range(i, j) produces i, i+1, i+2, ..., j-1.\n",
      " |  start defaults to 0, and stop is omitted!  range(4) produces 0, 1, 2, 3.\n",
      " |  These are exactly the valid indices for a list of 4 elements.\n",
      " |  When step is given, it specifies the increment (or decrement).\n",
      " |  \n",
      " |  Methods defined here:\n",
      " |  \n",
      " |  __bool__(self, /)\n",
      " |      self != 0\n",
      " |  \n",
      " |  __contains__(self, key, /)\n",
      " |      Return key in self.\n",
      " |  \n",
      " |  __eq__(self, value, /)\n",
      " |      Return self==value.\n",
      " |  \n",
      " |  __ge__(self, value, /)\n",
      " |      Return self>=value.\n",
      " |  \n",
      " |  __getattribute__(self, name, /)\n",
      " |      Return getattr(self, name).\n",
      " |  \n",
      " |  __getitem__(self, key, /)\n",
      " |      Return self[key].\n",
      " |  \n",
      " |  __gt__(self, value, /)\n",
      " |      Return self>value.\n",
      " |  \n",
      " |  __hash__(self, /)\n",
      " |      Return hash(self).\n",
      " |  \n",
      " |  __iter__(self, /)\n",
      " |      Implement iter(self).\n",
      " |  \n",
      " |  __le__(self, value, /)\n",
      " |      Return self<=value.\n",
      " |  \n",
      " |  __len__(self, /)\n",
      " |      Return len(self).\n",
      " |  \n",
      " |  __lt__(self, value, /)\n",
      " |      Return self<value.\n",
      " |  \n",
      " |  __ne__(self, value, /)\n",
      " |      Return self!=value.\n",
      " |  \n",
      " |  __reduce__(...)\n",
      " |      Helper for pickle.\n",
      " |  \n",
      " |  __repr__(self, /)\n",
      " |      Return repr(self).\n",
      " |  \n",
      " |  __reversed__(...)\n",
      " |      Return a reverse iterator.\n",
      " |  \n",
      " |  count(...)\n",
      " |      rangeobject.count(value) -> integer -- return number of occurrences of value\n",
      " |  \n",
      " |  index(...)\n",
      " |      rangeobject.index(value) -> integer -- return index of value.\n",
      " |      Raise ValueError if the value is not present.\n",
      " |  \n",
      " |  ----------------------------------------------------------------------\n",
      " |  Static methods defined here:\n",
      " |  \n",
      " |  __new__(*args, **kwargs) from builtins.type\n",
      " |      Create and return a new object.  See help(type) for accurate signature.\n",
      " |  \n",
      " |  ----------------------------------------------------------------------\n",
      " |  Data descriptors defined here:\n",
      " |  \n",
      " |  start\n",
      " |  \n",
      " |  step\n",
      " |  \n",
      " |  stop\n",
      "\n"
     ]
    }
   ],
   "source": [
    "# pulls up the docstring (documentation) as well as associated methods for whatever you call it on\n",
    "# can pull out in a popup with ? - only pulls up docstring\n",
    "help(range)"
   ]
  },
  {
   "cell_type": "markdown",
   "metadata": {},
   "source": [
    "##### isinstance()"
   ]
  },
  {
   "cell_type": "code",
   "execution_count": 61,
   "metadata": {},
   "outputs": [
    {
     "name": "stdout",
     "output_type": "stream",
     "text": [
      "13\n"
     ]
    }
   ],
   "source": [
    "# accepts a variable and a type\n",
    "# returns True if that variable is that type\n",
    "\n",
    "isinstance('water', str)\n",
    "\n",
    "# might use to check for correct typing for an operation\n",
    "num = '12'\n",
    "if isinstance(num, str):\n",
    "    num = int(num)\n",
    "    num += 1\n",
    "else:\n",
    "    num += 1\n",
    "print(num)"
   ]
  },
  {
   "cell_type": "markdown",
   "metadata": {},
   "source": [
    "##### abs()"
   ]
  },
  {
   "cell_type": "code",
   "execution_count": 62,
   "metadata": {},
   "outputs": [
    {
     "data": {
      "text/plain": [
       "12"
      ]
     },
     "execution_count": 62,
     "metadata": {},
     "output_type": "execute_result"
    }
   ],
   "source": [
    "# returns the absolute value of a number\n",
    "num = -12\n",
    "abs(num)"
   ]
  },
  {
   "cell_type": "markdown",
   "metadata": {},
   "source": [
    "### Try and Except"
   ]
  },
  {
   "cell_type": "code",
   "execution_count": null,
   "metadata": {},
   "outputs": [],
   "source": []
  },
  {
   "cell_type": "markdown",
   "metadata": {},
   "source": [
    "### Lists"
   ]
  },
  {
   "cell_type": "code",
   "execution_count": null,
   "metadata": {},
   "outputs": [],
   "source": [
    "# lists are our most commonly used data structure (aka collection or container)\n",
    "# a few things about lists that will make more sense later if they dont now:\n",
    "# -lists are ordered\n",
    "# -lists are indexed\n",
    "# -lists are mutable\n",
    "# -the syntax clue for a list: SQUARE BRACKET ["
   ]
  },
  {
   "cell_type": "markdown",
   "metadata": {},
   "source": [
    "##### Declaring Lists"
   ]
  },
  {
   "cell_type": "code",
   "execution_count": 63,
   "metadata": {},
   "outputs": [
    {
     "data": {
      "text/plain": [
       "[1, 2, 'a', 'squirrel', 'dogs have ADHD', True]"
      ]
     },
     "execution_count": 63,
     "metadata": {},
     "output_type": "execute_result"
    }
   ],
   "source": [
    "# square brackets to create a list\n",
    "a_list = []\n",
    "\n",
    "# one interesting thing about python is that lists can contain different data types\n",
    "b_list = [1, 2, 'a', 'squirrel', 'dogs have ADHD', True]\n",
    "# some language (java) require lists (they call them arrays) to only contain one type of data\n",
    "\n",
    "b_list"
   ]
  },
  {
   "cell_type": "code",
   "execution_count": 65,
   "metadata": {},
   "outputs": [
    {
     "name": "stdout",
     "output_type": "stream",
     "text": [
      "['a', 2, 'b', 3, 'c', 4, 'd', 5]\n"
     ]
    }
   ],
   "source": [
    "stri = 'a1b2c3d4' # change that to a2b3c4d5\n",
    "stri = list(stri)\n",
    "for i in range(len(stri)):\n",
    "    if stri[i] in '1234':\n",
    "        stri[i] = int(stri[i]) + 1\n",
    "print(stri)"
   ]
  },
  {
   "cell_type": "markdown",
   "metadata": {},
   "source": [
    "##### Indexing a List"
   ]
  },
  {
   "cell_type": "code",
   "execution_count": 68,
   "metadata": {},
   "outputs": [
    {
     "name": "stdout",
     "output_type": "stream",
     "text": [
      "bear\n"
     ]
    },
    {
     "data": {
      "text/plain": [
       "['fox', 'wolf', 'moon bear', 'echidna']"
      ]
     },
     "execution_count": 68,
     "metadata": {},
     "output_type": "execute_result"
    }
   ],
   "source": [
    "# in other words, accessing the value held at a specific index number\n",
    "# name_of_a_list[index_number_to_access]\n",
    "a_list = ['fox', 'wolf', 'bear', 'echidna']\n",
    "\n",
    "print(a_list[2])\n",
    "\n",
    "# can be used to redefine a value held at a specific index\n",
    "a_list[2] = 'moon bear'\n",
    "a_list"
   ]
  },
  {
   "cell_type": "markdown",
   "metadata": {},
   "source": [
    "##### .append()"
   ]
  },
  {
   "cell_type": "code",
   "execution_count": 71,
   "metadata": {},
   "outputs": [
    {
     "data": {
      "text/plain": [
       "['fennec fox', 'fox', 'wolf', 'moon bear', 'echidna', 'greenland shark']"
      ]
     },
     "execution_count": 71,
     "metadata": {},
     "output_type": "execute_result"
    }
   ],
   "source": [
    "# adding something to a list\n",
    "# we use the built in append method\n",
    "# takes the name of the list and what piece of data to the end of the list\n",
    "a_list.append('greenland shark')\n",
    "a_list"
   ]
  },
  {
   "cell_type": "markdown",
   "metadata": {},
   "source": [
    "##### .insert()"
   ]
  },
  {
   "cell_type": "code",
   "execution_count": 70,
   "metadata": {},
   "outputs": [
    {
     "data": {
      "text/plain": [
       "['fennec fox', 'fox', 'wolf', 'moon bear', 'echidna']"
      ]
     },
     "execution_count": 70,
     "metadata": {},
     "output_type": "execute_result"
    }
   ],
   "source": [
    "# insert lets you add something to a specific index of a list\n",
    "# takes 2 arguments: first is integer index location, 2nd is data to add\n",
    "# moves everything else in the list\n",
    "# warning/note - generally ineffecient use append unless you specifically need insert\n",
    "a_list.insert(0, 'fennec fox')\n",
    "a_list"
   ]
  },
  {
   "cell_type": "markdown",
   "metadata": {},
   "source": [
    "##### .pop()"
   ]
  },
  {
   "cell_type": "code",
   "execution_count": 73,
   "metadata": {},
   "outputs": [
    {
     "data": {
      "text/plain": [
       "'wolf'"
      ]
     },
     "execution_count": 73,
     "metadata": {},
     "output_type": "execute_result"
    }
   ],
   "source": [
    "# pop and remove are essentially the inverses of append and insert (except pop is both)\n",
    "# pop lets you remove the value from a specific index of your list\n",
    "# pop's default value is to remove the last item in the list\n",
    "# pop returns the value removed so that it can be used\n",
    "removed_item = a_list.pop(2)\n"
   ]
  },
  {
   "cell_type": "markdown",
   "metadata": {},
   "source": [
    "\n",
    "##### .remove()"
   ]
  },
  {
   "cell_type": "code",
   "execution_count": 76,
   "metadata": {},
   "outputs": [
    {
     "ename": "ValueError",
     "evalue": "list.remove(x): x not in list",
     "output_type": "error",
     "traceback": [
      "\u001b[1;31m---------------------------------------------------------------------------\u001b[0m",
      "\u001b[1;31mValueError\u001b[0m                                Traceback (most recent call last)",
      "\u001b[1;32m<ipython-input-76-d14aa396ba08>\u001b[0m in \u001b[0;36m<module>\u001b[1;34m\u001b[0m\n\u001b[0;32m      1\u001b[0m \u001b[1;31m# with remove you specify a value and the computer loops through the list to find and remove that value\u001b[0m\u001b[1;33m\u001b[0m\u001b[1;33m\u001b[0m\u001b[1;33m\u001b[0m\u001b[0m\n\u001b[0;32m      2\u001b[0m \u001b[1;31m# if you try to remove a value not in a  list, you get an error\u001b[0m\u001b[1;33m\u001b[0m\u001b[1;33m\u001b[0m\u001b[1;33m\u001b[0m\u001b[0m\n\u001b[1;32m----> 3\u001b[1;33m \u001b[0mnothinhere\u001b[0m \u001b[1;33m=\u001b[0m \u001b[0ma_list\u001b[0m\u001b[1;33m.\u001b[0m\u001b[0mremove\u001b[0m\u001b[1;33m(\u001b[0m\u001b[1;34m'fox'\u001b[0m\u001b[1;33m)\u001b[0m\u001b[1;33m\u001b[0m\u001b[1;33m\u001b[0m\u001b[0m\n\u001b[0m",
      "\u001b[1;31mValueError\u001b[0m: list.remove(x): x not in list"
     ]
    }
   ],
   "source": [
    "# with remove you specify a value and the computer loops through the list to find and remove that value\n",
    "# if you try to remove a value not in a  list, you get an error\n",
    "# does not return the removed value\n",
    "nothinhere = a_list.remove('fox')"
   ]
  },
  {
   "cell_type": "markdown",
   "metadata": {},
   "source": [
    "##### del()"
   ]
  },
  {
   "cell_type": "code",
   "execution_count": 77,
   "metadata": {},
   "outputs": [
    {
     "data": {
      "text/plain": [
       "['c', 'd', 'e', 'f']"
      ]
     },
     "execution_count": 77,
     "metadata": {},
     "output_type": "execute_result"
    }
   ],
   "source": [
    "# del is a keyword that can be used to delete multiple indexes from a list at once\n",
    "some_list = ['a', 'b', 'c', 'd', 'e', 'f']\n",
    "del some_list[0:2]\n",
    "some_list"
   ]
  },
  {
   "cell_type": "markdown",
   "metadata": {},
   "source": [
    "##### Concatenating Two Lists"
   ]
  },
  {
   "cell_type": "code",
   "execution_count": 78,
   "metadata": {},
   "outputs": [
    {
     "data": {
      "text/plain": [
       "['fennec fox', 'moon bear', 'echidna', 'c', 'd', 'e', 'f']"
      ]
     },
     "execution_count": 78,
     "metadata": {},
     "output_type": "execute_result"
    }
   ],
   "source": [
    "# you can use addition on lists\n",
    "# you can't use subtraction\n",
    "other = a_list + some_list\n",
    "other"
   ]
  },
  {
   "cell_type": "markdown",
   "metadata": {},
   "source": [
    "##### Lists Within Lists"
   ]
  },
  {
   "cell_type": "code",
   "execution_count": 80,
   "metadata": {},
   "outputs": [
    {
     "data": {
      "text/plain": [
       "['red fox', 'grey fox']"
      ]
     },
     "execution_count": 80,
     "metadata": {},
     "output_type": "execute_result"
    }
   ],
   "source": [
    "listolists = [['fennec fox', 'arctic fox', ['red fox', 'grey fox']], ['macaroni penguin', 'little blue penguin', 'emperor penguin']]\n",
    "\n",
    "# just chain your indexing together to access a value in a list in a list in a list\n",
    "listolists[0][2][1]"
   ]
  },
  {
   "cell_type": "markdown",
   "metadata": {},
   "source": [
    "##### Looping Through Lists"
   ]
  },
  {
   "cell_type": "code",
   "execution_count": null,
   "metadata": {},
   "outputs": [],
   "source": [
    "# see for loop section"
   ]
  },
  {
   "cell_type": "markdown",
   "metadata": {},
   "source": [
    "## Exercise #1 <br>\n",
    "<p>Cube Number Test... Print out all cubed numbers up to the total value 1000. Meaning that if the cubed number is over 1000 break the loop.</p>"
   ]
  },
  {
   "cell_type": "code",
   "execution_count": 107,
   "metadata": {},
   "outputs": [
    {
     "name": "stdout",
     "output_type": "stream",
     "text": [
      "[1, 8, 27, 64, 125, 216, 343, 512, 729, 1000]\n"
     ]
    }
   ],
   "source": [
    "def listCubes(a,b):\n",
    "    list = []\n",
    "    for count in range(a,b+1):\n",
    "        list.append(count**3)\n",
    "    return list\n",
    "cubes = listCubes(1, 10)\n",
    "print(cubes)"
   ]
  },
  {
   "cell_type": "markdown",
   "metadata": {},
   "source": [
    "## Exercise #2 <br>\n",
    "<p>Get first prime numbers up to 100</p>"
   ]
  },
  {
   "cell_type": "code",
   "execution_count": null,
   "metadata": {},
   "outputs": [],
   "source": [
    "# HINT::\n",
    "# An else after an if runs if the if didn’t\n",
    "# An else after a for runs if the for didn’t break\n",
    "\n",
    "for Number in range (1, 100 + 1):\n",
    "    count = 0\n",
    "    for i in range(2, (Number//2 + 1)):\n",
    "        if(Number % i == 0):\n",
    "            count = count + 1\n",
    "            break\n",
    "\n",
    "    if (count == 0 and Number != 1):\n",
    "        print(\" %d\" %Number, end = '  ')\n",
    "\n",
    "\n"
   ]
  },
  {
   "cell_type": "markdown",
   "metadata": {},
   "source": [
    "# Exercise 3 <br>\n",
    "<p>Take in a users input for their age, if they are younger than 18 print kids, if they're 18 to 65 print adults, else print seniors</p>"
   ]
  },
  {
   "cell_type": "code",
   "execution_count": 9,
   "metadata": {},
   "outputs": [
    {
     "name": "stdout",
     "output_type": "stream",
     "text": [
      "what your age? 14\n",
      "kids\n"
     ]
    }
   ],
   "source": [
    "x = input('what your age? ')\n",
    "Age = float(x)\n",
    "\n",
    "if Age <= 18:\n",
    "   print ('kids')\n",
    "elif 18 <= Age < 65:\n",
    "   print ('adults')\n",
    "else:\n",
    "   print ('seniors')"
   ]
  }
 ],
 "metadata": {
  "kernelspec": {
   "display_name": "Python 3",
   "language": "python",
   "name": "python3"
  },
  "language_info": {
   "codemirror_mode": {
    "name": "ipython",
    "version": 3
   },
   "file_extension": ".py",
   "mimetype": "text/x-python",
   "name": "python",
   "nbconvert_exporter": "python",
   "pygments_lexer": "ipython3",
   "version": "3.8.8"
  }
 },
 "nbformat": 4,
 "nbformat_minor": 2
}
